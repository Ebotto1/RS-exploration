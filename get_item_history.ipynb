{
 "cells": [
  {
   "cell_type": "code",
   "execution_count": 10,
   "metadata": {
    "collapsed": false
   },
   "outputs": [],
   "source": [
    "from urllib.request import urlopen\n",
    "from bs4 import BeautifulSoup \n",
    "from datetime import datetime, date, time\n",
    "import csv\n",
    "import webbrowser\n",
    "import pandas as pd\n",
    "\n",
    "def open_browser():\n",
    "    url = 'https://www.maxanet.com/cgi-bin/mnhistory.cgi?rosen316/1'\n",
    "    webbrowser.open(url)\n",
    "    \n",
    "open_browser()\n",
    "\n",
    "def getdate():\n",
    "    time = datetime.now()\n",
    "    dt = time.strftime(\"%A, %d %B %Y %I:%M%p\")\n",
    "    \n",
    "    print(dt)\n",
    "    \n",
    "html = urlopen(\"https://www.maxanet.com/cgi-bin/mnhistory.cgi?rosen316/1\")\n",
    "soup = BeautifulSoup(html, \"lxml\")\n",
    "\n",
    "\n",
    "file = open(\"itemhistory.csv\", 'w') \n",
    "    \n",
    "dtable = soup.find('table',id ='DataTable').findAll('tr')\n",
    "\n",
    "itemdatasaved = \" \"\n",
    "\n",
    "for record in dtable:\n",
    "    itemdata = \" \"\n",
    "    for data in record.findAll('td'):\n",
    "        itemdata = itemdata + \",\" + data.text \n",
    "    itemdatasaved = itemdatasaved + \"\\n\" + itemdata[2:]\n",
    "file.write(itemdatasaved)\n",
    "file.close()\n",
    "\n",
    "    "
   ]
  },
  {
   "cell_type": "code",
   "execution_count": 11,
   "metadata": {
    "collapsed": false
   },
   "outputs": [],
   "source": [
    "ihist = pd.read_csv('itemhistory.csv', header=[1],skiprows=1)\n",
    "ihist.head()"
   ]
  },
  {
   "cell_type": "code",
   "execution_count": 13,
   "metadata": {
    "collapsed": false
   },
   "outputs": [
    {
     "data": {
      "text/plain": [
       "(0, 5)"
      ]
     },
     "execution_count": 13,
     "metadata": {},
     "output_type": "execute_result"
    }
   ],
   "source": [
    "ihist.shape"
   ]
  },
  {
   "cell_type": "code",
   "execution_count": null,
   "metadata": {
    "collapsed": true
   },
   "outputs": [],
   "source": [
    "#iterate through items until there are no more items."
   ]
  }
 ],
 "metadata": {
  "kernelspec": {
   "display_name": "Python [Root]",
   "language": "python",
   "name": "Python [Root]"
  },
  "language_info": {
   "codemirror_mode": {
    "name": "ipython",
    "version": 3
   },
   "file_extension": ".py",
   "mimetype": "text/x-python",
   "name": "python",
   "nbconvert_exporter": "python",
   "pygments_lexer": "ipython3",
   "version": "3.5.2"
  }
 },
 "nbformat": 4,
 "nbformat_minor": 0
}
