{
 "cells": [
  {
   "cell_type": "code",
   "execution_count": 5,
   "metadata": {
    "collapsed": false
   },
   "outputs": [],
   "source": [
    "from urllib.request import urlopen\n",
    "from bs4 import BeautifulSoup \n",
    "from datetime import datetime, date, time\n",
    "import csv\n",
    "import webbrowser\n",
    "import pandas as pd\n",
    "\n",
    "def open_browser():\n",
    "    url = 'https://www.maxanet.com/cgi-bin/mnbidlog.cgi?rosen316'\n",
    "    webbrowser.open(url)\n",
    "    \n",
    "open_browser()\n",
    "\n",
    "def getdate():\n",
    "    time = datetime.now()\n",
    "    dt = time.strftime(\"%A, %d %B %Y %I:%M%p\")\n",
    "    \n",
    "    print(dt)\n",
    "    \n",
    "html = urlopen(\"https://www.maxanet.com/cgi-bin/mnbidlog.cgi?rosen316\")\n",
    "soup = BeautifulSoup(html, \"lxml\")\n",
    "\n",
    "\n",
    "file = open(\"bidhistory.csv\", 'w') \n",
    "    \n",
    "dtable = soup.find('table',id ='DataTable').findAll('tr')\n",
    "\n",
    "biddatasaved = \" \"\n",
    "\n",
    "for record in dtable:\n",
    "    biddata = \" \"\n",
    "    for data in record.findAll('td'):\n",
    "        biddata = biddata + \",\" + data.text \n",
    "    biddatasaved = biddatasaved + \"\\n\" + biddata[2:]\n",
    "file.write(biddatasaved)\n",
    "file.close()\n",
    "\n",
    "    "
   ]
  },
  {
   "cell_type": "code",
   "execution_count": 6,
   "metadata": {
    "collapsed": false
   },
   "outputs": [],
   "source": [
    "bdh = pd.read_csv('bidhistory.csv', header=[1],skiprows=1)"
   ]
  },
  {
   "cell_type": "code",
   "execution_count": 3,
   "metadata": {
    "collapsed": false,
    "scrolled": true
   },
   "outputs": [
    {
     "data": {
      "text/html": [
       "<div>\n",
       "<table border=\"1\" class=\"dataframe\">\n",
       "  <thead>\n",
       "    <tr style=\"text-align: right;\">\n",
       "      <th></th>\n",
       "      <th>178</th>\n",
       "      <th>4204</th>\n",
       "      <th>1300.00</th>\n",
       "      <th>12/07/2016 1:58 PM</th>\n",
       "    </tr>\n",
       "  </thead>\n",
       "  <tbody>\n",
       "  </tbody>\n",
       "</table>\n",
       "</div>"
      ],
      "text/plain": [
       "Empty DataFrame\n",
       "Columns: [178, 4204, 1300.00, 12/07/2016 1:58 PM]\n",
       "Index: []"
      ]
     },
     "execution_count": 3,
     "metadata": {},
     "output_type": "execute_result"
    }
   ],
   "source": [
    "bdh.head()"
   ]
  },
  {
   "cell_type": "code",
   "execution_count": null,
   "metadata": {
    "collapsed": true
   },
   "outputs": [],
   "source": []
  }
 ],
 "metadata": {
  "kernelspec": {
   "display_name": "Python [Root]",
   "language": "python",
   "name": "Python [Root]"
  },
  "language_info": {
   "codemirror_mode": {
    "name": "ipython",
    "version": 3
   },
   "file_extension": ".py",
   "mimetype": "text/x-python",
   "name": "python",
   "nbconvert_exporter": "python",
   "pygments_lexer": "ipython3",
   "version": "3.5.2"
  }
 },
 "nbformat": 4,
 "nbformat_minor": 0
}
