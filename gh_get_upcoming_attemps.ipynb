{
 "cells": [
  {
   "cell_type": "code",
   "execution_count": 13,
   "metadata": {
    "collapsed": false
   },
   "outputs": [
    {
     "data": {
      "text/html": [
       "<div>\n",
       "<table border=\"1\" class=\"dataframe\">\n",
       "  <thead>\n",
       "    <tr style=\"text-align: right;\">\n",
       "      <th></th>\n",
       "      <th>ua_name</th>\n",
       "      <th>ua_type</th>\n",
       "      <th>ua_sdate</th>\n",
       "    </tr>\n",
       "    <tr>\n",
       "      <th>aid</th>\n",
       "      <th></th>\n",
       "      <th></th>\n",
       "      <th></th>\n",
       "    </tr>\n",
       "  </thead>\n",
       "  <tbody>\n",
       "    <tr>\n",
       "      <th>325</th>\n",
       "      <td>Late Model Automotive Repair Shop</td>\n",
       "      <td>Online Only</td>\n",
       "      <td>January 12, 2017</td>\n",
       "    </tr>\n",
       "    <tr>\n",
       "      <th>326</th>\n",
       "      <td>Assets formerly of Megas Production</td>\n",
       "      <td>Online Only</td>\n",
       "      <td>January 17, 2017</td>\n",
       "    </tr>\n",
       "    <tr>\n",
       "      <th>331</th>\n",
       "      <td>January Auction eXchange</td>\n",
       "      <td>Online Only</td>\n",
       "      <td>January 19, 2017</td>\n",
       "    </tr>\n",
       "    <tr>\n",
       "      <th>328</th>\n",
       "      <td>Frisco International</td>\n",
       "      <td>Online Only</td>\n",
       "      <td>January 26, 2017</td>\n",
       "    </tr>\n",
       "    <tr>\n",
       "      <th>329</th>\n",
       "      <td>FBC Enterprises, LLC. dba Custom Graphic Servi...</td>\n",
       "      <td>Online Only</td>\n",
       "      <td>January 31, 2017</td>\n",
       "    </tr>\n",
       "  </tbody>\n",
       "</table>\n",
       "</div>"
      ],
      "text/plain": [
       "                                               ua_name      ua_type  \\\n",
       "aid                                                                   \n",
       "325                  Late Model Automotive Repair Shop  Online Only   \n",
       "326                Assets formerly of Megas Production  Online Only   \n",
       "331                           January Auction eXchange  Online Only   \n",
       "328                               Frisco International  Online Only   \n",
       "329  FBC Enterprises, LLC. dba Custom Graphic Servi...  Online Only   \n",
       "\n",
       "              ua_sdate  \n",
       "aid                     \n",
       "325  January 12, 2017   \n",
       "326  January 17, 2017   \n",
       "331  January 19, 2017   \n",
       "328  January 26, 2017   \n",
       "329  January 31, 2017   "
      ]
     },
     "execution_count": 13,
     "metadata": {},
     "output_type": "execute_result"
    }
   ],
   "source": [
    "def get_u_auction():\n",
    "    from urllib.request import urlopen\n",
    "    from bs4 import BeautifulSoup \n",
    "    import pandas as pd\n",
    "\n",
    "    html = urlopen(\"http://www.rosensystems.com/upcoming-auctions\")\n",
    "    soup = BeautifulSoup(html, \"lxml\")\n",
    "\n",
    "    table = soup.table\n",
    "    records = []\n",
    "    for tr in table.findAll(\"tr\"):\n",
    "        trs = tr.findAll(\"td\")\n",
    "        record = []\n",
    "        ua_link = trs[3].a[\"href\"]\n",
    "        record.append(ua_link.replace(\"https://www.maxanet.com/cgi-bin/mndetails.cgi?rosen\",\"\") )\n",
    "        record.append(trs[1].h4.text)\n",
    "        record.append(trs[2].h5.text)\n",
    "        record.append(trs[2].find(\"span\", {\"class\":\"date-display-single\"}).text)\n",
    "        records.append(record)\n",
    "\n",
    "    df = pd.DataFrame(data=records)\n",
    "\n",
    "    #name the columns\n",
    "    df.columns = [\"aid\",\"ua_name\",\"ua_type\",\"ua_sdate\"]\n",
    "    #set index\n",
    "    df.set_index(\"aid\",inplace=True)\n",
    "    #remove the remaining \\n\n",
    "    df['ua_type'] = df['ua_type'].str.replace('\\n',\"\")\n",
    "    #remove time from date\n",
    "    df['ua_sdate'] = df['ua_sdate'].str.replace(\"- 10:00am\",\"\")\n",
    "df"
   ]
  },
  {
   "cell_type": "code",
   "execution_count": 65,
   "metadata": {
    "collapsed": false
   },
   "outputs": [
    {
     "name": "stdout",
     "output_type": "stream",
     "text": [
      "['20'],https://www.maxanet.com/cgi-bin/mndetails.cgi?rosen20\n",
      "\n",
      "['6'],https://www.maxanet.com/cgi-bin/mndetails.cgi?rosen6\n",
      "\n",
      "['327'],https://www.maxanet.com/cgi-bin/mndetails.cgi?rosen327\n",
      "\n",
      "['325'],https://www.maxanet.com/cgi-bin/mndetails.cgi?rosen325\n",
      "\n",
      "['326'],https://www.maxanet.com/cgi-bin/mndetails.cgi?rosen326\n",
      "\n"
     ]
    }
   ],
   "source": [
    "from urllib.request import urlopen\n",
    "from bs4 import BeautifulSoup \n",
    "from datetime import datetime, date, time\n",
    "import csv\n",
    "import pandas as pd\n",
    "import re\n",
    "\n",
    "htmla = urlopen(\"http://www.rosensystems.com/upcoming-auctions\")\n",
    "soup = BeautifulSoup(htmla, \"lxml\")\n",
    "\n",
    "#get auction IDs\n",
    "#mndetails_link = soup.find_all('td')[3].a\n",
    "#mndetails = (mndetails_link.attrs['href'])\n",
    "\n",
    "\n",
    "u_auction = {}\n",
    "afile = open('uauction.csv', 'w')\n",
    "\n",
    "#get list of View Catalog links\n",
    "vcat = soup.findAll(\"a\", {\"href\":re.compile(\"https:\\\\/\\\\/www\\\\.maxanet\\\\.com\\\\/cgi-bin\\\\/mndetails\\\\.cgi\\\\?rosen(.*)\")})\n",
    "#aid = re.compile(\"https:\\\\/\\\\/www\\\\.maxanet\\\\.com\\\\/cgi-bin\\\\/mndetails\\\\.cgi\\\\?rosen(.*)\").match(vcat_link).groups()\n",
    "\n",
    "\n",
    "for item in vcat:\n",
    "    vcat_link = item.attrs['href']\n",
    "    #print(value)\n",
    "    for record in item:\n",
    "        aid = re.compile(\"https:\\\\/\\\\/www\\\\.maxanet\\\\.com\\\\/cgi-bin\\\\/mndetails\\\\.cgi\\\\?rosen(.*)\").match(vcat_link).groups()\n",
    "        key = list(aid) \n",
    "        auction_id = ('{0},{1}\\n'.format(key, vcat_link))\n",
    "        afile.write(auction_id)\n",
    "        print(auction_id)\n",
    "           \n",
    "afile.close()\n",
    "\n",
    "\n"
   ]
  },
  {
   "cell_type": "code",
   "execution_count": 15,
   "metadata": {
    "collapsed": false
   },
   "outputs": [
    {
     "name": "stdout",
     "output_type": "stream",
     "text": [
      "['325'],https://www.maxanet.com/cgi-bin/mndetails.cgi?rosen325\n",
      "\n",
      "['326'],https://www.maxanet.com/cgi-bin/mndetails.cgi?rosen326\n",
      "\n",
      "['331'],https://www.maxanet.com/cgi-bin/mndetails.cgi?rosen331\n",
      "\n",
      "['328'],https://www.maxanet.com/cgi-bin/mndetails.cgi?rosen328\n",
      "\n",
      "['329'],https://www.maxanet.com/cgi-bin/mndetails.cgi?rosen329\n",
      "\n"
     ]
    }
   ],
   "source": [
    "from urllib.request import urlopen\n",
    "from bs4 import BeautifulSoup \n",
    "from datetime import datetime, date, time\n",
    "import csv\n",
    "import pandas as pd\n",
    "import re\n",
    "\n",
    "htmla = urlopen(\"http://www.rosensystems.com/upcoming-auctions\")\n",
    "soup = BeautifulSoup(htmla, \"lxml\")\n",
    "\n",
    "#get auction IDs\n",
    "#mndetails_link = soup.find_all('td')[3].a\n",
    "#mndetails = (mndetails_link.attrs['href'])\n",
    "\n",
    "\n",
    "u_auction = {}\n",
    "afile = open('uauction.csv', 'w')\n",
    "\n",
    "#get list of View Catalog links\n",
    "vcat = soup.findAll(\"a\", {\"href\":re.compile(\"https:\\\\/\\\\/www\\\\.maxanet\\\\.com\\\\/cgi-bin\\\\/mndetails\\\\.cgi\\\\?rosen(.*)\")})\n",
    "#aid = re.compile(\"https:\\\\/\\\\/www\\\\.maxanet\\\\.com\\\\/cgi-bin\\\\/mndetails\\\\.cgi\\\\?rosen(.*)\").match(vcat_link).groups()\n",
    "\n",
    "\n",
    "for item in vcat:\n",
    "    vcat_link = item.attrs['href']\n",
    "    #print(value)\n",
    "    for record in item:\n",
    "        aid = re.compile(\"https:\\\\/\\\\/www\\\\.maxanet\\\\.com\\\\/cgi-bin\\\\/mndetails\\\\.cgi\\\\?rosen(.*)\").match(vcat_link).groups()\n",
    "        key = list(aid) \n",
    "        auction_id = ('{0},{1}\\n'.format(key, vcat_link))\n",
    "        afile.write(auction_id)\n",
    "        print(auction_id)\n",
    "           \n",
    "afile.close()\n",
    "\n",
    "\n"
   ]
  },
  {
   "cell_type": "code",
   "execution_count": 64,
   "metadata": {
    "collapsed": false
   },
   "outputs": [
    {
     "name": "stdout",
     "output_type": "stream",
     "text": [
      "('20',),https://www.maxanet.com/cgi-bin/mndetails.cgi?rosen20,\n",
      "\n",
      "\n",
      "('6',),https://www.maxanet.com/cgi-bin/mndetails.cgi?rosen6,\n",
      "\n",
      "\n",
      "('327',),https://www.maxanet.com/cgi-bin/mndetails.cgi?rosen327,\n",
      "\n",
      "\n",
      "('325',),https://www.maxanet.com/cgi-bin/mndetails.cgi?rosen325,\n",
      "\n",
      "\n",
      "('326',),https://www.maxanet.com/cgi-bin/mndetails.cgi?rosen326,\n",
      "\n",
      "\n",
      "('328',),https://www.maxanet.com/cgi-bin/mndetails.cgi?rosen328,\n",
      "\n",
      "\n",
      "('329',),https://www.maxanet.com/cgi-bin/mndetails.cgi?rosen329,\n",
      "\n",
      "\n"
     ]
    }
   ],
   "source": [
    "#write the following to a table\n",
    "\n",
    "#aid\n",
    "#link\n",
    "#name\n",
    "#address1\n",
    "#address2\n",
    "#city\n",
    "#state\n",
    "#zip\n",
    "#type\n",
    "#map link\n",
    "\n",
    "from urllib.request import urlopen\n",
    "from bs4 import BeautifulSoup \n",
    "from datetime import datetime, date, time\n",
    "import csv\n",
    "import pandas as pd\n",
    "import re\n",
    "\n",
    "html = urlopen(\"http://www.rosensystems.com/upcoming-auctions\")\n",
    "soup = BeautifulSoup(html, \"lxml\")\n",
    "\n",
    "#get auction IDs\n",
    "#mndetails_link = soup.find_all('td')[3].a\n",
    "#mndetails = (mndetails_link.attrs['href'])\n",
    "\n",
    "\n",
    "#get list of View Catalog links\n",
    "vcat = soup.findAll(\"a\", {\"href\":re.compile(\"https:\\\\/\\\\/www\\\\.maxanet\\\\.com\\\\/cgi-bin\\\\/mndetails\\\\.cgi\\\\?rosen(.*)\")})\n",
    "#aid = re.compile(\"https:\\\\/\\\\/www\\\\.maxanet\\\\.com\\\\/cgi-bin\\\\/mndetails\\\\.cgi\\\\?rosen(.*)\").match(vcat_link).groups()\n",
    "\n",
    "u_auction = {}\n",
    "for item in vcat:\n",
    "    vcat_link = item.attrs['href']\n",
    "    #print(value)\n",
    "    for record in item:\n",
    "        aid = re.compile(\"https:\\\\/\\\\/www\\\\.maxanet\\\\.com\\\\/cgi-bin\\\\/mndetails\\\\.cgi\\\\?rosen(.*)\").match(vcat_link).groups()\n",
    "        name = soup.h4.previous_sibling \n",
    "        auction_id = ('{0},{1},{2}\\n'.format(aid, vcat_link, name))\n",
    "        print(auction_id)"
   ]
  },
  {
   "cell_type": "code",
   "execution_count": 66,
   "metadata": {
    "collapsed": false
   },
   "outputs": [
    {
     "name": "stdout",
     "output_type": "stream",
     "text": [
      "Quick Sale PolyWRX, LLC. formerly JMC Killion Laboratories\n"
     ]
    }
   ],
   "source": [
    "from urllib.request import urlopen\n",
    "from bs4 import BeautifulSoup \n",
    "\n",
    "html = urlopen(\"http://www.rosensystems.com/upcoming-auctions\")\n",
    "soup = BeautifulSoup(html, \"lxml\")\n",
    "\n",
    "def get_upcomming_auction():\n",
    "    a_name = soup.find('h4')\n",
    "    a_address1 = soup.find_all(\"span\",{\"itemprop\":{\"streetAddress\"}})\n",
    "    a_address2 = soup.find_all(\"span\",{\"class\":{\"additional\"}})\n",
    "    a_city = soup.find_all(\"span\",{\"class\":{\"locality\"}})\n",
    "    a_region = soup.find_all(\"span\",{\"class\":{\"addressRegion\"}})\n",
    "    a_postalCode = soup.find_all(\"span\",{\"class\":{\"postal-code\"}})\n",
    "    a_startDate = soup.find_all(\"span\",{\"class\":{\"date-display-single\"}})\n",
    "    a_mndetails_link = soup.find('table').find_all('td')[3].a\n",
    "    a_type = soup.find_all('h5')\n",
    "    \n",
    "    for name in a_name:\n",
    "        print(a_name.text)\n",
    "    \n",
    "get_upcomming_auction()"
   ]
  },
  {
   "cell_type": "code",
   "execution_count": null,
   "metadata": {
    "collapsed": false
   },
   "outputs": [],
   "source": [
    "import re\n",
    "\n",
    "#get list of View Catalog links\n",
    "vcat = soup.findAll(\"a\", {\"href\":re.compile(\"https:\\\\/\\\\/www\\\\.maxanet\\\\.com\\\\/cgi-bin\\\\/mndetails\\\\.cgi\\\\?rosen(.*)\")})\n",
    "for item in vcat:\n",
    "    vcat_link = item.attrs['href']\n",
    "    print(vcat_link)\n",
    "   \n"
   ]
  },
  {
   "cell_type": "code",
   "execution_count": 81,
   "metadata": {
    "collapsed": false
   },
   "outputs": [
    {
     "name": "stdout",
     "output_type": "stream",
     "text": [
      "\n",
      "\n",
      " \n",
      "\n",
      "Quick Sale - Impact Frac, LLC. BK Case #16-33612\n",
      "\n",
      "\n",
      "10954 Exhibition Rd \n",
      "\n",
      "79014\n",
      "\n",
      "      Canadian      \n",
      "              ,                     TX\n",
      "\n",
      "\n",
      "See map: Google Maps \n",
      "\n",
      "\n",
      "\n",
      "\n",
      "Online Only\n",
      "January 5, 2017 - 10:00am \n",
      "\n",
      "View CatalogRegister Now \n",
      "\n"
     ]
    }
   ],
   "source": [
    "from urllib.request import urlopen\n",
    "from bs4 import BeautifulSoup \n",
    "from datetime import datetime, date, time\n",
    "import csv\n",
    "import webbrowser\n",
    "import pandas as pd\n",
    "\n",
    "html = urlopen(\"http://www.rosensystems.com/upcoming-auctions\")\n",
    "soup = BeautifulSoup(html, \"lxml\")\n",
    "\n",
    "for records in dtable[0:1]:\n",
    "    auction = (\"{} {}{}{}\".format(name.text,type.text,startDate.text))\n",
    "    print(records.text)\n",
    "    \n",
    "    "
   ]
  },
  {
   "cell_type": "code",
   "execution_count": 82,
   "metadata": {
    "collapsed": false
   },
   "outputs": [
    {
     "name": "stdout",
     "output_type": "stream",
     "text": [
      "[('20',), ('6',), ('327',), ('325',), ('326',)]\n"
     ]
    }
   ],
   "source": [
    "a_id = []    \n",
    "for item in vcat:\n",
    "    vcat_link = item.attrs['href']\n",
    "    for record in item:\n",
    "        aid = re.compile(\"https:\\\\/\\\\/www\\\\.maxanet\\\\.com\\\\/cgi-bin\\\\/mndetails\\\\.cgi\\\\?rosen(.*)\").match(vcat_link).groups()\n",
    "    a_id.append(aid)\n",
    "print(a_id)\n",
    "    \n"
   ]
  },
  {
   "cell_type": "code",
   "execution_count": 8,
   "metadata": {
    "collapsed": false
   },
   "outputs": [
    {
     "name": "stdout",
     "output_type": "stream",
     "text": [
      "['20']\n",
      "['6']\n",
      "['327']\n",
      "['325']\n",
      "['326']\n",
      "['326']\n"
     ]
    }
   ],
   "source": [
    "from urllib.request import urlopen\n",
    "from bs4 import BeautifulSoup \n",
    "from datetime import datetime, date, time\n",
    "import csv\n",
    "import webbrowser\n",
    "import pandas as pd\n",
    "\n",
    "html = urlopen(\"http://www.rosensystems.com/upcoming-auctions\")\n",
    "soup = BeautifulSoup(html, \"lxml\")\n",
    "\n",
    "for item in vcat:\n",
    "    vcat_link = item.attrs['href']\n",
    "    for record in item:\n",
    "        aid = re.compile(\"https:\\\\/\\\\/www\\\\.maxanet\\\\.com\\\\/cgi-bin\\\\/mndetails\\\\.cgi\\\\?rosen(.*)\").match(vcat_link).groups()\n",
    "        auction_id = list(aid) \n",
    "        print(auction_id)\n",
    "\n",
    "#get the upcomming auction names\n",
    "dtable = soup.find(\"table\").find_all(\"tr\")\n",
    "auction_id = list(aid) \n",
    "name = soup.find_all('h4')\n",
    "atype = soup.find_all('h5')\n",
    "startDate = soup.find_all(\"span\",{\"class\":{\"date-display-single\"}})\n",
    "\n",
    "getua =[]\n",
    "for i in dtable:\n",
    "    auctionName = (i.text)\n",
    "print(auction_id)\n",
    "\n",
    "#get_upcomming_auction()\n"
   ]
  },
  {
   "cell_type": "code",
   "execution_count": 5,
   "metadata": {
    "collapsed": false
   },
   "outputs": [
    {
     "name": "stdout",
     "output_type": "stream",
     "text": [
      "Quick Sale PolyWRX, LLC. formerly JMC Killion Laboratories\n",
      "Quick Sale - Impact Frac, LLC. BK Case #16-33612\n",
      "Extrusion Dies at PolyWrx\n",
      "Late Model Automotive Repair Shop\n",
      "Assets formerly of Megas Production\n",
      "January Auction eXchange\n",
      "Frisco International\n"
     ]
    }
   ],
   "source": [
    "from urllib.request import urlopen\n",
    "from bs4 import BeautifulSoup \n",
    "from datetime import datetime, date, time\n",
    "import csv\n",
    "import webbrowser\n",
    "import pandas as pd\n",
    "\n",
    "html = urlopen(\"http://www.rosensystems.com/upcoming-auctions\")\n",
    "soup = BeautifulSoup(html, \"lxml\")\n",
    "\n",
    "#get the upcomming auction names\n",
    "\n",
    "def get_upcomming_auction():\n",
    "    name = soup.find_all('h4')\n",
    "    for i in name:\n",
    "        auctionName = (i.text)\n",
    "        print(auctionName)\n",
    "get_upcomming_auction()\n"
   ]
  },
  {
   "cell_type": "code",
   "execution_count": 83,
   "metadata": {
    "collapsed": false
   },
   "outputs": [],
   "source": [
    "def get_auction_type():\n",
    "    name = soup.find_all('div',{\"id\":\"adr\"})\n",
    "    for i in name:\n",
    "        auctionName = (i.text)\n",
    "        print(auctionName)\n",
    "        \n",
    "get_auction_type()"
   ]
  },
  {
   "cell_type": "code",
   "execution_count": 108,
   "metadata": {
    "collapsed": false
   },
   "outputs": [
    {
     "name": "stdout",
     "output_type": "stream",
     "text": [
      "December 15, 2016 - 10:00am\n",
      "December 20, 2016 - 10:00am\n",
      "December 20, 2016 - 1:00pm\n",
      "January 12, 2017 - 10:00am\n",
      "January 17, 2017 - 10:00am\n",
      "January 19, 2017 - 10:00am\n"
     ]
    }
   ],
   "source": [
    "startDate = soup.find_all(\"span\",{\"class\":{\"date-display-single\"}})\n",
    "\n",
    "for i in startDate:\n",
    "    print(i.text)"
   ]
  },
  {
   "cell_type": "code",
   "execution_count": 88,
   "metadata": {
    "collapsed": false
   },
   "outputs": [
    {
     "name": "stdout",
     "output_type": "stream",
     "text": [
      "<span class=\"date-display-single\" content=\"2017-01-04T10:00:00-06:00\" datatype=\"xsd:dateTime\" property=\"dc:date\">January 4, 2017 - 10:00am</span>\n",
      "<span class=\"date-display-single\" content=\"2017-01-05T10:00:00-06:00\" datatype=\"xsd:dateTime\" property=\"dc:date\">January 5, 2017 - 10:00am</span>\n",
      "<span class=\"date-display-single\" content=\"2017-01-11T10:00:00-06:00\" datatype=\"xsd:dateTime\" property=\"dc:date\">January 11, 2017 - 10:00am</span>\n",
      "<span class=\"date-display-single\" content=\"2017-01-12T10:00:00-06:00\" datatype=\"xsd:dateTime\" property=\"dc:date\">January 12, 2017 - 10:00am</span>\n",
      "<span class=\"date-display-single\" content=\"2017-01-17T10:00:00-06:00\" datatype=\"xsd:dateTime\" property=\"dc:date\">January 17, 2017 - 10:00am</span>\n",
      "<span class=\"date-display-single\" content=\"2017-01-19T10:00:00-06:00\" datatype=\"xsd:dateTime\" property=\"dc:date\">January 19, 2017 - 10:00am</span>\n",
      "<span class=\"date-display-single\" content=\"2017-01-26T10:00:00-06:00\" datatype=\"xsd:dateTime\" property=\"dc:date\">January 26, 2017 - 10:00am</span>\n"
     ]
    }
   ],
   "source": [
    "startDate = soup.find_all(\"span\",{\"class\":{\"date-display-single\"}})\n",
    "\n",
    "for i in startDate:\n",
    "    print(i)"
   ]
  },
  {
   "cell_type": "code",
   "execution_count": 16,
   "metadata": {
    "collapsed": true
   },
   "outputs": [],
   "source": [
    "datef = soup.findAll(\"span\", {\"class\":{\"date-display-single\"}})"
   ]
  },
  {
   "cell_type": "code",
   "execution_count": 14,
   "metadata": {
    "collapsed": false
   },
   "outputs": [
    {
     "name": "stdout",
     "output_type": "stream",
     "text": [
      "https://www.maxanet.com/cgi-bin/mndetails.cgi?rosen322\n"
     ]
    }
   ],
   "source": [
    "name = soup.find_all('h4')\n",
    "type = soup.find_all('h5')\n",
    "address1 = soup.find_all(\"span\",{\"itemprop\":{\"streetAddress\"}})\n",
    "address2 = soup.find_all(\"span\",{\"class\":{\"additional\"}})\n",
    "city = soup.find_all(\"span\",{\"class\":{\"locality\"}})\n",
    "region = soup.find_all(\"span\",{\"class\":{\"addressRegion\"}})\n",
    "postalCode = soup.find_all(\"span\",{\"class\":{\"postal-code\"}})\n",
    "startDate = soup.find_all(\"span\",{\"class\":{\"date-display-single\"}})\n",
    "link = soup.find('table').findAll('td')[3].a\n",
    "\n",
    "def getUpcommingDetails():\n",
    "    from urllib.request import urlopen\n",
    "    from bs4 import BeautifulSoup \n",
    "\n",
    "    html = urlopen(\"http://www.rosensystems.com/upcoming-auctions\")\n",
    "    soup = BeautifulSoup(html, \"lxml\")\n",
    "\n",
    "#get the upcomming auction names\n",
    "\n",
    "\n",
    "    \n",
    "    \n",
    "    \n",
    "    \n",
    "    print(link.attrs['href'])\n",
    "\n",
    "getMNDetails()    \n",
    "    \n"
   ]
  },
  {
   "cell_type": "code",
   "execution_count": 11,
   "metadata": {
    "collapsed": false
   },
   "outputs": [
    {
     "name": "stdout",
     "output_type": "stream",
     "text": [
      "https://www.maxanet.com/cgi-bin/mndetails.cgi?rosen322\n"
     ]
    }
   ],
   "source": [
    "mndetails_link = soup.find('table').find_all('td')[3].a\n",
    "\n",
    "print(link.attrs['href'])"
   ]
  },
  {
   "cell_type": "code",
   "execution_count": null,
   "metadata": {
    "collapsed": true
   },
   "outputs": [],
   "source": [
    "from urllib.request import urlopen\n",
    "from bs4 import BeautifulSoup \n",
    "from datetime import datetime, date, time\n",
    "import csv\n",
    "import webbrowser\n",
    "import pandas as pd\n",
    "import re\n",
    "\n",
    "html = urlopen(\"http://www.rosensystems.com/upcoming-auctions\")\n",
    "soup = BeautifulSoup(html, \"lxml\")\n",
    "\n",
    "#get auction IDs\n",
    "#mndetails_link = soup.find_all('td')[3].a\n",
    "#mndetails = (mndetails_link.attrs['href'])\n",
    "\n",
    "\n",
    "#get list of View Catalog links\n",
    "vcat = soup.findAll(\"a\", {\"href\":re.compile(\"https:\\\\/\\\\/www\\\\.maxanet\\\\.com\\\\/cgi-bin\\\\/mndetails\\\\.cgi\\\\?rosen(.*)\")})\n",
    "for item in vcat:\n",
    "    vcat_link = item.attrs['href']\n",
    "    print(vcat_link)\n",
    "\n",
    "for item in vcat_link:\n",
    "    aid = re.compile(\"https:\\\\/\\\\/www\\\\.maxanet\\\\.com\\\\/cgi-bin\\\\/mndetails\\\\.cgi\\\\?rosen(.*)\").match(vcat_link).groups()  \n",
    "    print(auction_id)\n",
    "#formatting - replace left paren with colon\n",
    "#print(aid)"
   ]
  },
  {
   "cell_type": "code",
   "execution_count": 23,
   "metadata": {
    "collapsed": false
   },
   "outputs": [
    {
     "name": "stdout",
     "output_type": "stream",
     "text": [
      "Quick Sale PolyWRX, LLC. formerly JMC Killion Laboratories\n",
      "https://www.maxanet.com/cgi-bin/mndetails.cgi?rosen329 Quick Sale PolyWRX, LLC. formerly JMC Killion Laboratories\n",
      "Quick Sale - Impact Frac, LLC. BK Case #16-33612\n",
      "https://www.maxanet.com/cgi-bin/mndetails.cgi?rosen329 Quick Sale - Impact Frac, LLC. BK Case #16-33612\n",
      "Extrusion Dies at PolyWrx\n",
      "https://www.maxanet.com/cgi-bin/mndetails.cgi?rosen329 Extrusion Dies at PolyWrx\n",
      "Late Model Automotive Repair Shop\n",
      "https://www.maxanet.com/cgi-bin/mndetails.cgi?rosen329 Late Model Automotive Repair Shop\n",
      "Assets formerly of Megas Production\n",
      "https://www.maxanet.com/cgi-bin/mndetails.cgi?rosen329 Assets formerly of Megas Production\n",
      "January Auction eXchange\n",
      "https://www.maxanet.com/cgi-bin/mndetails.cgi?rosen329 January Auction eXchange\n",
      "Frisco International\n",
      "https://www.maxanet.com/cgi-bin/mndetails.cgi?rosen329 Frisco International\n",
      "FBC Enterprises, LLC. dba Custom Graphic Services BK CASE #16-44404\n",
      "https://www.maxanet.com/cgi-bin/mndetails.cgi?rosen329 FBC Enterprises, LLC. dba Custom Graphic Services BK CASE #16-44404\n"
     ]
    }
   ],
   "source": [
    "from urllib.request import urlopen\n",
    "from bs4 import BeautifulSoup \n",
    "from datetime import datetime, date, time\n",
    "import csv\n",
    "import webbrowser\n",
    "import pandas as pd\n",
    "import re\n",
    "\n",
    "html = urlopen(\"http://www.rosensystems.com/upcoming-auctions\")\n",
    "soup = BeautifulSoup(html, \"lxml\")\n",
    "\n",
    "#get auction IDs\n",
    "#mndetails_link = soup.find_all('td')[3].a\n",
    "#mndetails = (mndetails_link.attrs['href'])\n",
    "\n",
    "\n",
    "#get list of View Catalog links\n",
    "vcat = soup.findAll(\"a\", {\"href\":re.compile(\"https:\\\\/\\\\/www\\\\.maxanet\\\\.com\\\\/cgi-bin\\\\/mndetails\\\\.cgi\\\\?rosen(.*)\")})\n",
    "name = soup.find_all('h4')\n",
    "list = []\n",
    "for i in name:\n",
    "    auctionName = (i.text)\n",
    "    availability = item.parent.nextSibling.text\n",
    "    print(auctionName)\n",
    "    for i in vcat:\n",
    "        vcat_link = item.attrs['href']   \n",
    "    print(vcat_link, auctionName)\n"
   ]
  },
  {
   "cell_type": "code",
   "execution_count": 2,
   "metadata": {
    "collapsed": false
   },
   "outputs": [
    {
     "name": "stdout",
     "output_type": "stream",
     "text": [
      "Quick Sale PolyWRX, LLC. formerly JMC Killion Laboratories\n",
      "Quick Sale - Impact Frac, LLC. BK Case #16-33612\n",
      "Extrusion Dies at PolyWrx\n",
      "Late Model Automotive Repair Shop\n",
      "Assets formerly of Megas Production\n",
      "January Auction eXchange\n",
      "Frisco International\n"
     ]
    }
   ],
   "source": [
    "from urllib.request import urlopen\n",
    "from bs4 import BeautifulSoup \n",
    "from datetime import datetime, date, time\n",
    "import csv\n",
    "import webbrowser\n",
    "import pandas as pd\n",
    "\n",
    "html = urlopen(\"http://www.rosensystems.com/upcoming-auctions\")\n",
    "soup = BeautifulSoup(html, \"lxml\")\n",
    "\n",
    "#get the upcomming auction names\n",
    "dtable = soup.find(\"table\").find_all(\"tr\")\n",
    "\n",
    "def get_upcomming_auction():\n",
    "    \n",
    "    for i in soup.find_all('h4'):\n",
    "        print(i.text)\n",
    "        \n",
    "get_upcomming_auction()"
   ]
  },
  {
   "cell_type": "code",
   "execution_count": null,
   "metadata": {
    "collapsed": false
   },
   "outputs": [],
   "source": [
    "from urllib.request import urlopen\n",
    "from bs4 import BeautifulSoup \n",
    "from datetime import datetime, date, time\n",
    "import csv\n",
    "import webbrowser\n",
    "import pandas as pd\n",
    "\n",
    "html = urlopen(\"http://www.rosensystems.com/upcoming-auctions\")\n",
    "soup = BeautifulSoup(html, \"lxml\")\n",
    "\n",
    "dtable = soup.find(\"table\").find_all(\"tr\")\n",
    "auction_id = list(aid) \n",
    "name = soup.find_all('h4')\n",
    "atype = soup.find_all('h5')\n",
    "startDate = soup.find_all(\"span\",{\"class\":{\"date-display-single\"}})\n",
    "vcat = soup.findAll(\"a\", {\"href\":re.compile(\"https:\\\\/\\\\/www\\\\.maxanet\\\\.com\\\\/cgi-bin\\\\/mndetails\\\\.cgi\\\\?rosen(.*)\")})\n",
    "\n",
    "for item in vcat:\n",
    "    vcat_link = item.attrs['href']\n",
    "    for record in item:\n",
    "        aid = re.compile(\"https:\\\\/\\\\/www\\\\.maxanet\\\\.com\\\\/cgi-bin\\\\/mndetails\\\\.cgi\\\\?rosen(.*)\").match(vcat_link).groups()\n",
    "        auction_id = list(aid) \n",
    "        print(auction_id)\n",
    "\n",
    "for aname in name:\n",
    "    names = (aname.text)\n",
    "    print(names)\n",
    "        \n",
    "for adate in startDate:\n",
    "    print(adate.text)\n",
    "\n",
    "for atype in atype:\n",
    "    print(atype.text)\n"
   ]
  },
  {
   "cell_type": "code",
   "execution_count": null,
   "metadata": {
    "collapsed": false
   },
   "outputs": [],
   "source": [
    "table1 = soup.find('table')\n",
    "vcount = len(vcat)\n",
    "\n",
    "tds = table1.find_all('td')\n",
    "\n",
    "for item in vcat:\n",
    "    vcat_link = item.attrs['href']\n",
    "    for record in item:\n",
    "        aid = re.compile(\"https:\\\\/\\\\/www\\\\.maxanet\\\\.com\\\\/cgi-bin\\\\/mndetails\\\\.cgi\\\\?rosen(.*)\").match(vcat_link).groups()\n",
    "        auction_id = list(aid) \n",
    "        print(auction_id)\n",
    "        \n",
    "        \n"
   ]
  },
  {
   "cell_type": "code",
   "execution_count": null,
   "metadata": {
    "collapsed": true
   },
   "outputs": [],
   "source": [
    "import csv\n",
    "from urllib.request import urlopen\n",
    "from bs4 import BeautifulSoup\n",
    "\n",
    "html = urlopen(\"http://www.rosensystems.com/upcoming-auctions\")\n",
    "bsObj = BeautifulSoup(html, \"lxml\")\n",
    "#soup = BeautifulSoup(html, \"lxml\")\n",
    "\n",
    "#The main comparison table is currently the first table on the page\n",
    "ltable = soup.find(\"table\")\n",
    "#table = bsObj.findAll(\"table\",{\"class\":\"wikitable\"})[0]\n",
    "rows = ltable.find_all(\"tr\")\n",
    "\n",
    "csvFile = open(\"editors.csv\", 'wt')\n",
    "writer = csv.writer(csvFile)\n",
    "try:\n",
    "    for row in rows:\n",
    "        vcat_link\n",
    "        csvRow = []\n",
    "    for cell in row.findAll(['td','h5']):\n",
    "        csvRow.append(cell.get_text())\n",
    "        writer.writerow(csvRow)\n",
    "finally:\n",
    "    csvFile.close()"
   ]
  },
  {
   "cell_type": "code",
   "execution_count": null,
   "metadata": {
    "collapsed": true
   },
   "outputs": [],
   "source": [
    "\t\n",
    "import csv\n",
    "from urllib.request import urlopen\n",
    "from bs4 import BeautifulSoup\n",
    "\n",
    "html = urlopen(\"http://www.rosensystems.com/upcoming-auctions\")\n",
    "soup = BeautifulSoup(html, \"lxml\")\n",
    "\n",
    "\n",
    "#Grab second table from HTML\n",
    "def my_parse(html):\n",
    "    soup = BeautifulSoup(html)\n",
    "    table = soup.find_all('table')\n",
    "    for tr in table2.find_all('tr')[2:]:\n",
    "        tds = tr.find_all('td')\n",
    "        url = tds[8].a.get('href')\n",
    "    tds[8].a.replaceWith(url)\n",
    "        records.append([elem.text.encode('utf-8') for elem in tds])\n",
    "\n",
    "records = []\n",
    "#Read HTML file into memory\n",
    "for index in range(39):\n",
    "    url = \"file:///C:/projects/HTML/Export.htm\".format(index)\n",
    "    response = urllib2.urlopen(url)\n",
    "    try:\n",
    "        html = response.read()\n",
    "    except Exception:\n",
    "        raise\n",
    "    else:\n",
    "        my_parse(html)\n",
    "    finally:\n",
    "        try:\n",
    "            response.close()\n",
    "        except (UnboundLocalError, NameError):\n",
    "            raise UnboundLocalError\n",
    "\n",
    "#Writing CSV file\n",
    "with open('listing.csv', 'wb') as f:\n",
    "    writer = csv.writer(f)\n",
    "    writer.writerows(records)"
   ]
  },
  {
   "cell_type": "code",
   "execution_count": 197,
   "metadata": {
    "collapsed": false
   },
   "outputs": [
    {
     "data": {
      "text/plain": [
       "5"
      ]
     },
     "execution_count": 197,
     "metadata": {},
     "output_type": "execute_result"
    }
   ],
   "source": [
    "vcount = len(vcat)"
   ]
  }
 ],
 "metadata": {
  "anaconda-cloud": {},
  "kernelspec": {
   "display_name": "Python [Root]",
   "language": "python",
   "name": "Python [Root]"
  },
  "language_info": {
   "codemirror_mode": {
    "name": "ipython",
    "version": 3
   },
   "file_extension": ".py",
   "mimetype": "text/x-python",
   "name": "python",
   "nbconvert_exporter": "python",
   "pygments_lexer": "ipython3",
   "version": "3.5.2"
  }
 },
 "nbformat": 4,
 "nbformat_minor": 0
}
