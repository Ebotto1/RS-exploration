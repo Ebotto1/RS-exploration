{
 "cells": [
  {
   "cell_type": "code",
   "execution_count": 159,
   "metadata": {
    "collapsed": false
   },
   "outputs": [
    {
     "name": "stdout",
     "output_type": "stream",
     "text": [
      "['Quick Sale PolyWRX, LLC. formerly JMC Killion Laboratories', 'Quick Sale - Impact Frac, LLC. BK Case #16-33612', 'Extrusion Dies at PolyWrx', 'Late Model Automotive Repair Shop', 'Assets formerly of Megas Production', 'January Auction eXchange', 'Frisco International', 'FBC Enterprises, LLC. dba Custom Graphic Services BK CASE #16-44404']\n"
     ]
    }
   ],
   "source": [
    "from urllib.request import urlopen\n",
    "from bs4 import BeautifulSoup \n",
    "import pandas as pd \n",
    "   \n",
    "html = urlopen(\"http://www.rosensys.com/upcoming-auctions\")\n",
    "soup = BeautifulSoup(html, \"lxml\")\n",
    "\n",
    "#get elements\n",
    "rstable = soup.table.tr\n",
    "name = soup.h4.text\n",
    "type1 = soup.h5.text\n",
    "rstype = type1.replace(\"\\n\" ,\"\")\n",
    "td1 = rstable.find_all('td')[1]\n",
    "td2 = rstable.find_all('td')[2]\n",
    "td3 = rstable.find_all('td')[3].a\n",
    "ulink = td3['href']\n",
    "sdate1 = soup.find(\"span\", {\"class\":\"date-display-single\"}).text\n",
    "sdate2 = sdate1.replace(\",\",\"\")\n",
    "sdate = sdate2.split(\" - \")\n",
    "aid = ulink.replace(\"https://www.maxanet.com/cgi-bin/mndetails.cgi?rosen\",\"\") \n",
    "\n",
    "ulist = []\n",
    "\n",
    "for item in soup.find_all('h4'):\n",
    "    aid = ulink.replace(\"https://www.maxanet.com/cgi-bin/mndetails.cgi?rosen\",\"\") \n",
    "    ulist.append(item.text)\n",
    "\n",
    "print(ulist)\n",
    "   \n",
    "    "
   ]
  },
  {
   "cell_type": "code",
   "execution_count": null,
   "metadata": {
    "collapsed": true
   },
   "outputs": [],
   "source": []
  }
 ],
 "metadata": {
  "kernelspec": {
   "display_name": "Python [default]",
   "language": "python",
   "name": "python3"
  },
  "language_info": {
   "codemirror_mode": {
    "name": "ipython",
    "version": 3
   },
   "file_extension": ".py",
   "mimetype": "text/x-python",
   "name": "python",
   "nbconvert_exporter": "python",
   "pygments_lexer": "ipython3",
   "version": "3.5.2"
  }
 },
 "nbformat": 4,
 "nbformat_minor": 1
}
