{
 "cells": [
  {
   "cell_type": "code",
   "execution_count": 96,
   "metadata": {
    "collapsed": false
   },
   "outputs": [
    {
     "data": {
      "text/plain": [
       "aid\n",
       "325    True\n",
       "326    True\n",
       "331    True\n",
       "328    True\n",
       "329    True\n",
       "Name: ua_sdate, dtype: bool"
      ]
     },
     "execution_count": 96,
     "metadata": {},
     "output_type": "execute_result"
    }
   ],
   "source": [
    "# Which rows of df['ua_link'] contain \n",
    "\n",
    "df['ua_sdate'].str.contains('- 10:00am', regex=True)"
   ]
  },
  {
   "cell_type": "code",
   "execution_count": 107,
   "metadata": {
    "collapsed": false
   },
   "outputs": [
    {
     "ename": "ValueError",
     "evalue": "Length mismatch: Expected axis has 0 elements, new values have 4 elements",
     "output_type": "error",
     "traceback": [
      "\u001b[1;31m---------------------------------------------------------------------------\u001b[0m",
      "\u001b[1;31mValueError\u001b[0m                                Traceback (most recent call last)",
      "\u001b[1;32m<ipython-input-107-2c9789cea5c8>\u001b[0m in \u001b[0;36m<module>\u001b[1;34m()\u001b[0m\n\u001b[0;32m     21\u001b[0m \u001b[1;33m\u001b[0m\u001b[0m\n\u001b[0;32m     22\u001b[0m \u001b[1;31m#name the columns\u001b[0m\u001b[1;33m\u001b[0m\u001b[1;33m\u001b[0m\u001b[0m\n\u001b[1;32m---> 23\u001b[1;33m \u001b[0mpdf\u001b[0m\u001b[1;33m.\u001b[0m\u001b[0mcolumns\u001b[0m \u001b[1;33m=\u001b[0m \u001b[1;33m[\u001b[0m\u001b[1;34m\"aid\"\u001b[0m\u001b[1;33m,\u001b[0m\u001b[1;34m\"ua_name\"\u001b[0m\u001b[1;33m,\u001b[0m\u001b[1;34m\"ua_type\"\u001b[0m\u001b[1;33m,\u001b[0m\u001b[1;34m\"ua_sdate\"\u001b[0m\u001b[1;33m]\u001b[0m\u001b[1;33m\u001b[0m\u001b[0m\n\u001b[0m\u001b[0;32m     24\u001b[0m \u001b[1;33m\u001b[0m\u001b[0m\n\u001b[0;32m     25\u001b[0m \u001b[1;31m#set index\u001b[0m\u001b[1;33m\u001b[0m\u001b[1;33m\u001b[0m\u001b[0m\n",
      "\u001b[1;32mC:\\Anaconda3\\lib\\site-packages\\pandas\\core\\generic.py\u001b[0m in \u001b[0;36m__setattr__\u001b[1;34m(self, name, value)\u001b[0m\n\u001b[0;32m   2683\u001b[0m         \u001b[1;32mtry\u001b[0m\u001b[1;33m:\u001b[0m\u001b[1;33m\u001b[0m\u001b[0m\n\u001b[0;32m   2684\u001b[0m             \u001b[0mobject\u001b[0m\u001b[1;33m.\u001b[0m\u001b[0m__getattribute__\u001b[0m\u001b[1;33m(\u001b[0m\u001b[0mself\u001b[0m\u001b[1;33m,\u001b[0m \u001b[0mname\u001b[0m\u001b[1;33m)\u001b[0m\u001b[1;33m\u001b[0m\u001b[0m\n\u001b[1;32m-> 2685\u001b[1;33m             \u001b[1;32mreturn\u001b[0m \u001b[0mobject\u001b[0m\u001b[1;33m.\u001b[0m\u001b[0m__setattr__\u001b[0m\u001b[1;33m(\u001b[0m\u001b[0mself\u001b[0m\u001b[1;33m,\u001b[0m \u001b[0mname\u001b[0m\u001b[1;33m,\u001b[0m \u001b[0mvalue\u001b[0m\u001b[1;33m)\u001b[0m\u001b[1;33m\u001b[0m\u001b[0m\n\u001b[0m\u001b[0;32m   2686\u001b[0m         \u001b[1;32mexcept\u001b[0m \u001b[0mAttributeError\u001b[0m\u001b[1;33m:\u001b[0m\u001b[1;33m\u001b[0m\u001b[0m\n\u001b[0;32m   2687\u001b[0m             \u001b[1;32mpass\u001b[0m\u001b[1;33m\u001b[0m\u001b[0m\n",
      "\u001b[1;32mpandas\\src\\properties.pyx\u001b[0m in \u001b[0;36mpandas.lib.AxisProperty.__set__ (pandas\\lib.c:44748)\u001b[1;34m()\u001b[0m\n",
      "\u001b[1;32mC:\\Anaconda3\\lib\\site-packages\\pandas\\core\\generic.py\u001b[0m in \u001b[0;36m_set_axis\u001b[1;34m(self, axis, labels)\u001b[0m\n\u001b[0;32m    426\u001b[0m \u001b[1;33m\u001b[0m\u001b[0m\n\u001b[0;32m    427\u001b[0m     \u001b[1;32mdef\u001b[0m \u001b[0m_set_axis\u001b[0m\u001b[1;33m(\u001b[0m\u001b[0mself\u001b[0m\u001b[1;33m,\u001b[0m \u001b[0maxis\u001b[0m\u001b[1;33m,\u001b[0m \u001b[0mlabels\u001b[0m\u001b[1;33m)\u001b[0m\u001b[1;33m:\u001b[0m\u001b[1;33m\u001b[0m\u001b[0m\n\u001b[1;32m--> 428\u001b[1;33m         \u001b[0mself\u001b[0m\u001b[1;33m.\u001b[0m\u001b[0m_data\u001b[0m\u001b[1;33m.\u001b[0m\u001b[0mset_axis\u001b[0m\u001b[1;33m(\u001b[0m\u001b[0maxis\u001b[0m\u001b[1;33m,\u001b[0m \u001b[0mlabels\u001b[0m\u001b[1;33m)\u001b[0m\u001b[1;33m\u001b[0m\u001b[0m\n\u001b[0m\u001b[0;32m    429\u001b[0m         \u001b[0mself\u001b[0m\u001b[1;33m.\u001b[0m\u001b[0m_clear_item_cache\u001b[0m\u001b[1;33m(\u001b[0m\u001b[1;33m)\u001b[0m\u001b[1;33m\u001b[0m\u001b[0m\n\u001b[0;32m    430\u001b[0m \u001b[1;33m\u001b[0m\u001b[0m\n",
      "\u001b[1;32mC:\\Anaconda3\\lib\\site-packages\\pandas\\core\\internals.py\u001b[0m in \u001b[0;36mset_axis\u001b[1;34m(self, axis, new_labels)\u001b[0m\n\u001b[0;32m   2633\u001b[0m             raise ValueError('Length mismatch: Expected axis has %d elements, '\n\u001b[0;32m   2634\u001b[0m                              \u001b[1;34m'new values have %d elements'\u001b[0m \u001b[1;33m%\u001b[0m\u001b[1;33m\u001b[0m\u001b[0m\n\u001b[1;32m-> 2635\u001b[1;33m                              (old_len, new_len))\n\u001b[0m\u001b[0;32m   2636\u001b[0m \u001b[1;33m\u001b[0m\u001b[0m\n\u001b[0;32m   2637\u001b[0m         \u001b[0mself\u001b[0m\u001b[1;33m.\u001b[0m\u001b[0maxes\u001b[0m\u001b[1;33m[\u001b[0m\u001b[0maxis\u001b[0m\u001b[1;33m]\u001b[0m \u001b[1;33m=\u001b[0m \u001b[0mnew_labels\u001b[0m\u001b[1;33m\u001b[0m\u001b[0m\n",
      "\u001b[1;31mValueError\u001b[0m: Length mismatch: Expected axis has 0 elements, new values have 4 elements"
     ]
    }
   ],
   "source": [
    "from urllib.request import urlopen\n",
    "from bs4 import BeautifulSoup \n",
    "import pandas as pd\n",
    "\n",
    "html = urlopen(\"http://www.rosensys.com/previous-auctions\")\n",
    "soup = BeautifulSoup(html, \"lxml\")\n",
    "\n",
    "table = soup.table\n",
    "precords = []\n",
    "for tr in table.findAll(\"tr\"):\n",
    "    trs = tr.findAll(\"td\")\n",
    "    record = []\n",
    "    ua_link = trs[3].a[\"href\"]\n",
    "    record.append(ua_link.replace(\"https://www.maxanet.com/cgi-bin/mndetails.cgi?rosen\",\"\") )\n",
    "    record.append(trs[1].h4.text)\n",
    "    record.append(trs[2].h5.text)\n",
    "    record.append(trs[2].find(\"span\", {\"class\":\"date-display-single\"}).text)\n",
    "    records.append(record)\n",
    "\n",
    "pdf = pd.DataFrame(data=precords)\n",
    "\n",
    "#name the columns\n",
    "pdf.columns = [\"aid\",\"ua_name\",\"ua_type\",\"ua_sdate\"]\n",
    "\n",
    "#set index\n",
    "pdf.set_index(\"aid\",inplace=True)\n",
    "\n",
    "#remove the remaining \\n\n",
    "pdf['ua_type'] = pdf['ua_type'].str.replace('\\n',\"\")\n",
    "\n",
    "#remove time from date\n",
    "pdf['ua_sdate'] = pdf['ua_sdate'].str.replace(\"- 10:00am\",\"\")\n",
    "\n",
    "pdf\n"
   ]
  },
  {
   "cell_type": "code",
   "execution_count": 105,
   "metadata": {
    "collapsed": false
   },
   "outputs": [
    {
     "data": {
      "text/html": [
       "<div>\n",
       "<table border=\"1\" class=\"dataframe\">\n",
       "  <thead>\n",
       "    <tr style=\"text-align: right;\">\n",
       "      <th></th>\n",
       "      <th>ua_name</th>\n",
       "      <th>ua_type</th>\n",
       "      <th>ua_sdate</th>\n",
       "    </tr>\n",
       "    <tr>\n",
       "      <th>aid</th>\n",
       "      <th></th>\n",
       "      <th></th>\n",
       "      <th></th>\n",
       "    </tr>\n",
       "  </thead>\n",
       "  <tbody>\n",
       "    <tr>\n",
       "      <th>325</th>\n",
       "      <td>Late Model Automotive Repair Shop</td>\n",
       "      <td>Online Only</td>\n",
       "      <td>January 12, 2017</td>\n",
       "    </tr>\n",
       "    <tr>\n",
       "      <th>326</th>\n",
       "      <td>Assets formerly of Megas Production</td>\n",
       "      <td>Online Only</td>\n",
       "      <td>January 17, 2017</td>\n",
       "    </tr>\n",
       "    <tr>\n",
       "      <th>331</th>\n",
       "      <td>January Auction eXchange</td>\n",
       "      <td>Online Only</td>\n",
       "      <td>January 19, 2017</td>\n",
       "    </tr>\n",
       "    <tr>\n",
       "      <th>328</th>\n",
       "      <td>Frisco International</td>\n",
       "      <td>Online Only</td>\n",
       "      <td>January 26, 2017</td>\n",
       "    </tr>\n",
       "    <tr>\n",
       "      <th>329</th>\n",
       "      <td>FBC Enterprises, LLC. dba Custom Graphic Servi...</td>\n",
       "      <td>Online Only</td>\n",
       "      <td>January 31, 2017</td>\n",
       "    </tr>\n",
       "  </tbody>\n",
       "</table>\n",
       "</div>"
      ],
      "text/plain": [
       "                                               ua_name      ua_type  \\\n",
       "aid                                                                   \n",
       "325                  Late Model Automotive Repair Shop  Online Only   \n",
       "326                Assets formerly of Megas Production  Online Only   \n",
       "331                           January Auction eXchange  Online Only   \n",
       "328                               Frisco International  Online Only   \n",
       "329  FBC Enterprises, LLC. dba Custom Graphic Servi...  Online Only   \n",
       "\n",
       "              ua_sdate  \n",
       "aid                     \n",
       "325  January 12, 2017   \n",
       "326  January 17, 2017   \n",
       "331  January 19, 2017   \n",
       "328  January 26, 2017   \n",
       "329  January 31, 2017   "
      ]
     },
     "execution_count": 105,
     "metadata": {},
     "output_type": "execute_result"
    }
   ],
   "source": [
    "from urllib.request import urlopen\n",
    "from bs4 import BeautifulSoup \n",
    "import pandas as pd\n",
    "\n",
    "html = urlopen(\"http://www.rosensystems.com/upcoming-auctions\")\n",
    "soup = BeautifulSoup(html, \"lxml\")\n",
    "\n",
    "table = soup.table\n",
    "records = []\n",
    "for tr in table.findAll(\"tr\"):\n",
    "    trs = tr.findAll(\"td\")\n",
    "    record = []\n",
    "    ua_link = trs[3].a[\"href\"]\n",
    "    record.append(ua_link.replace(\"https://www.maxanet.com/cgi-bin/mndetails.cgi?rosen\",\"\") )\n",
    "    record.append(trs[1].h4.text)\n",
    "    record.append(trs[2].h5.text)\n",
    "    record.append(trs[2].find(\"span\", {\"class\":\"date-display-single\"}).text)\n",
    "    records.append(record)\n",
    "\n",
    "df = pd.DataFrame(data=records)\n",
    "\n",
    "#name the columns\n",
    "df.columns = [\"aid\",\"ua_name\",\"ua_type\",\"ua_sdate\"]\n",
    "\n",
    "#set index\n",
    "df.set_index(\"aid\",inplace=True)\n",
    "\n",
    "#remove the remaining \\n\n",
    "df['ua_type'] = df['ua_type'].str.replace('\\n',\"\")\n",
    "\n",
    "#remove time from date\n",
    "df['ua_sdate'] = df['ua_sdate'].str.replace(\"- 10:00am\",\"\")\n",
    "\n",
    "df"
   ]
  },
  {
   "cell_type": "code",
   "execution_count": null,
   "metadata": {
    "collapsed": true
   },
   "outputs": [],
   "source": [
    "http://www.rosensys.com/previous-auctions"
   ]
  }
 ],
 "metadata": {
  "kernelspec": {
   "display_name": "Python [Root]",
   "language": "python",
   "name": "Python [Root]"
  },
  "language_info": {
   "codemirror_mode": {
    "name": "ipython",
    "version": 3
   },
   "file_extension": ".py",
   "mimetype": "text/x-python",
   "name": "python",
   "nbconvert_exporter": "python",
   "pygments_lexer": "ipython3",
   "version": "3.5.2"
  }
 },
 "nbformat": 4,
 "nbformat_minor": 0
}
