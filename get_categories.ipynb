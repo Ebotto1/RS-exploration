{
 "cells": [
  {
   "cell_type": "code",
   "execution_count": 7,
   "metadata": {
    "collapsed": false
   },
   "outputs": [
    {
     "name": "stdout",
     "output_type": "stream",
     "text": [
      "ALL ITEMS:179\n",
      "1 INSTRUCTIONS:1\n",
      "AUTO RAMP:1\n",
      "BAND SAW:1\n",
      "BENCH PRESS:1\n",
      "CARPET STINGER:3\n",
      "CONTAINER:2\n",
      "DOLLY:1\n",
      "ELECTRONICS:2\n",
      "FLOOR INVENTORY:116\n",
      "FORKLIFT:2\n",
      "FURNITURE:9\n",
      "HOPPER:2\n",
      "JOB BOX:1\n",
      "LADDER:4\n",
      "LAWN MOWER:1\n",
      "MITER SAW:1\n",
      "OFFICE EQUIPMENT:12\n",
      "PALLET GRABBER:1\n",
      "PALLET JACK:3\n",
      "POLY TANKS:1\n",
      "POWER WASHER:1\n",
      "RADIAL ARM SAW:1\n",
      "SCISSOR LIFT:1\n",
      "SHELVING:2\n",
      "WAREHOUSE EQUIPMENT:8\n",
      "WINDOW SHUTTERS:1\n"
     ]
    }
   ],
   "source": [
    "from urllib.request import urlopen\n",
    "from bs4 import BeautifulSoup \n",
    "from datetime import datetime, date, time\n",
    "import csv\n",
    "import pandas as pd\n",
    "\n",
    "\n",
    "def getdate():\n",
    "    time = datetime.now()\n",
    "    dt = time.strftime(\"%A, %d %B %Y %I:%M%p\")\n",
    "    \n",
    "    print(dt)\n",
    "    \n",
    "    \n",
    "html = urlopen(\"https://www.maxanet.com/cgi-bin/mndetails.cgi?rosen316\")\n",
    "soup = BeautifulSoup(html, \"lxml\")\n",
    "\n",
    "#get categories from web page \n",
    "category = soup('table')[0].findAll('tr')[4].findAll('td')[1].text\n",
    "\n",
    "#formatting - replace left paren with colon\n",
    "new_cat = category.replace(\" (\" ,\":\")\n",
    "#replace right paren with blank\n",
    "new1_cat = new_cat.replace(\")\",\"\")\n",
    "#split on dashes\n",
    "category_list = new1_cat.split(\" - \")\n",
    "#remove \"catalog from the list\n",
    "category_list.remove('Catalog')\n",
    "#print the list to see if it is good\n",
    "for item in category_list:\n",
    "    print(item)\n",
    "\n",
    "#set up file name and dictionary\n",
    "file = \"category.txt\"\n",
    "cat_file = open(file, 'w')\n",
    "category = {}\n",
    "\n",
    "\n",
    "#put formatted items in a dictionary\n",
    "for line in category_list:\n",
    "    x = line.split(\":\")\n",
    "    a=x[0]\n",
    "    b=x[1]\n",
    "    category[a]=b\n",
    "    \n",
    "#remove instructions    \n",
    "del(category[\"1 INSTRUCTIONS\"])\n",
    "\n",
    "#write category list to file\n",
    "with open('category.csv', 'w') as file:\n",
    "    [file.write('{0},{1}\\n'.format(key, value)) for key, value in category.items()]  \n",
    "    \n",
    "#write the list in the database (table = a_categories, fields = auctionId,categoryName, itemCount)"
   ]
  },
  {
   "cell_type": "code",
   "execution_count": 2,
   "metadata": {
    "collapsed": false
   },
   "outputs": [
    {
     "name": "stdout",
     "output_type": "stream",
     "text": [
      "Sunday, 11 December 2016 07:54PM\n"
     ]
    }
   ],
   "source": [
    "getdate()\n"
   ]
  },
  {
   "cell_type": "code",
   "execution_count": 11,
   "metadata": {
    "collapsed": false
   },
   "outputs": [
    {
     "data": {
      "text/html": [
       "<div>\n",
       "<table border=\"1\" class=\"dataframe\">\n",
       "  <thead>\n",
       "    <tr style=\"text-align: right;\">\n",
       "      <th></th>\n",
       "      <th>FURNITURE</th>\n",
       "      <th>9</th>\n",
       "    </tr>\n",
       "  </thead>\n",
       "  <tbody>\n",
       "    <tr>\n",
       "      <th>0</th>\n",
       "      <td>JOB BOX</td>\n",
       "      <td>1</td>\n",
       "    </tr>\n",
       "    <tr>\n",
       "      <th>1</th>\n",
       "      <td>POWER WASHER</td>\n",
       "      <td>1</td>\n",
       "    </tr>\n",
       "    <tr>\n",
       "      <th>2</th>\n",
       "      <td>PALLET GRABBER</td>\n",
       "      <td>1</td>\n",
       "    </tr>\n",
       "    <tr>\n",
       "      <th>3</th>\n",
       "      <td>MITER SAW</td>\n",
       "      <td>1</td>\n",
       "    </tr>\n",
       "    <tr>\n",
       "      <th>4</th>\n",
       "      <td>HOPPER</td>\n",
       "      <td>2</td>\n",
       "    </tr>\n",
       "  </tbody>\n",
       "</table>\n",
       "</div>"
      ],
      "text/plain": [
       "        FURNITURE  9\n",
       "0         JOB BOX  1\n",
       "1    POWER WASHER  1\n",
       "2  PALLET GRABBER  1\n",
       "3       MITER SAW  1\n",
       "4          HOPPER  2"
      ]
     },
     "execution_count": 11,
     "metadata": {},
     "output_type": "execute_result"
    }
   ],
   "source": [
    "cat = pd.read_csv('category.csv')\n",
    "cat.head()"
   ]
  },
  {
   "cell_type": "code",
   "execution_count": null,
   "metadata": {
    "collapsed": true
   },
   "outputs": [],
   "source": [
    "#add column names and set index"
   ]
  }
 ],
 "metadata": {
  "kernelspec": {
   "display_name": "Python [Root]",
   "language": "python",
   "name": "Python [Root]"
  },
  "language_info": {
   "codemirror_mode": {
    "name": "ipython",
    "version": 3
   },
   "file_extension": ".py",
   "mimetype": "text/x-python",
   "name": "python",
   "nbconvert_exporter": "python",
   "pygments_lexer": "ipython3",
   "version": "3.5.2"
  }
 },
 "nbformat": 4,
 "nbformat_minor": 0
}
