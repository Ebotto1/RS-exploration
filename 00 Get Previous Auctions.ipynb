{
 "cells": [
  {
   "cell_type": "code",
   "execution_count": 8,
   "metadata": {
    "collapsed": false
   },
   "outputs": [
    {
     "data": {
      "text/html": [
       "<div>\n",
       "<table border=\"1\" class=\"dataframe\">\n",
       "  <thead>\n",
       "    <tr style=\"text-align: right;\">\n",
       "      <th></th>\n",
       "      <th>aid</th>\n",
       "      <th>ua_name</th>\n",
       "      <th>ua_type</th>\n",
       "      <th>ua_sdate</th>\n",
       "      <th>URL</th>\n",
       "    </tr>\n",
       "  </thead>\n",
       "  <tbody>\n",
       "    <tr>\n",
       "      <th>0</th>\n",
       "      <td>20</td>\n",
       "      <td>Quick Sale - FBC Enterprises, LLC. dba Custom ...</td>\n",
       "      <td>Online Only</td>\n",
       "      <td>2017-03-10 10:00:00</td>\n",
       "      <td>https://www.maxanet.com/cgi-bin/mndetails.cgi?...</td>\n",
       "    </tr>\n",
       "    <tr>\n",
       "      <th>1</th>\n",
       "      <td>335</td>\n",
       "      <td>March Auction eXchange</td>\n",
       "      <td>Online Only</td>\n",
       "      <td>2017-03-07 10:00:00</td>\n",
       "      <td>https://www.maxanet.com/cgi-bin/mndetails.cgi?...</td>\n",
       "    </tr>\n",
       "    <tr>\n",
       "      <th>2</th>\n",
       "      <td>329</td>\n",
       "      <td>FBC Enterprises, LLC. dba Custom Graphic Servi...</td>\n",
       "      <td>Online Only</td>\n",
       "      <td>2017-02-28 10:00:00</td>\n",
       "      <td>https://www.maxanet.com/cgi-bin/mndetails.cgi?...</td>\n",
       "    </tr>\n",
       "    <tr>\n",
       "      <th>3</th>\n",
       "      <td>334</td>\n",
       "      <td>Ashtola Exploration Co, Inc. BK Case #16-70406</td>\n",
       "      <td>Online Only</td>\n",
       "      <td>2017-02-23 10:00:00</td>\n",
       "      <td>https://www.maxanet.com/cgi-bin/mndetails.cgi?...</td>\n",
       "    </tr>\n",
       "    <tr>\n",
       "      <th>4</th>\n",
       "      <td>333</td>\n",
       "      <td>Pitts Industries LLC</td>\n",
       "      <td>Online Only</td>\n",
       "      <td>2017-02-21 10:00:00</td>\n",
       "      <td>https://www.maxanet.com/cgi-bin/mndetails.cgi?...</td>\n",
       "    </tr>\n",
       "    <tr>\n",
       "      <th>5</th>\n",
       "      <td>332</td>\n",
       "      <td>James E. Helzer BK Case #13-42626</td>\n",
       "      <td>Online Only</td>\n",
       "      <td>2017-02-16 10:00:00</td>\n",
       "      <td>https://www.maxanet.com/cgi-bin/mndetails.cgi?...</td>\n",
       "    </tr>\n",
       "    <tr>\n",
       "      <th>6</th>\n",
       "      <td>330</td>\n",
       "      <td>Ariska Productions</td>\n",
       "      <td>Online Only</td>\n",
       "      <td>2017-02-14 10:00:00</td>\n",
       "      <td>https://www.maxanet.com/cgi-bin/mndetails.cgi?...</td>\n",
       "    </tr>\n",
       "    <tr>\n",
       "      <th>7</th>\n",
       "      <td>25</td>\n",
       "      <td>Quick Sale January Auction eXchange</td>\n",
       "      <td>Online Only</td>\n",
       "      <td>2017-02-01 10:00:00</td>\n",
       "      <td>https://www.maxanet.com/cgi-bin/mndetails.cgi?...</td>\n",
       "    </tr>\n",
       "    <tr>\n",
       "      <th>8</th>\n",
       "      <td>328</td>\n",
       "      <td>Frisco International</td>\n",
       "      <td>Online Only</td>\n",
       "      <td>2017-01-26 10:00:00</td>\n",
       "      <td>https://www.maxanet.com/cgi-bin/mndetails.cgi?...</td>\n",
       "    </tr>\n",
       "    <tr>\n",
       "      <th>9</th>\n",
       "      <td>331</td>\n",
       "      <td>January Auction eXchange</td>\n",
       "      <td>Online Only</td>\n",
       "      <td>2017-01-19 10:00:00</td>\n",
       "      <td>https://www.maxanet.com/cgi-bin/mndetails.cgi?...</td>\n",
       "    </tr>\n",
       "  </tbody>\n",
       "</table>\n",
       "</div>"
      ],
      "text/plain": [
       "   aid                                            ua_name      ua_type  \\\n",
       "0   20  Quick Sale - FBC Enterprises, LLC. dba Custom ...  Online Only   \n",
       "1  335                             March Auction eXchange  Online Only   \n",
       "2  329  FBC Enterprises, LLC. dba Custom Graphic Servi...  Online Only   \n",
       "3  334     Ashtola Exploration Co, Inc. BK Case #16-70406  Online Only   \n",
       "4  333                               Pitts Industries LLC  Online Only   \n",
       "5  332                  James E. Helzer BK Case #13-42626  Online Only   \n",
       "6  330                                Ariska Productions   Online Only   \n",
       "7   25                Quick Sale January Auction eXchange  Online Only   \n",
       "8  328                               Frisco International  Online Only   \n",
       "9  331                           January Auction eXchange  Online Only   \n",
       "\n",
       "             ua_sdate                                                URL  \n",
       "0 2017-03-10 10:00:00  https://www.maxanet.com/cgi-bin/mndetails.cgi?...  \n",
       "1 2017-03-07 10:00:00  https://www.maxanet.com/cgi-bin/mndetails.cgi?...  \n",
       "2 2017-02-28 10:00:00  https://www.maxanet.com/cgi-bin/mndetails.cgi?...  \n",
       "3 2017-02-23 10:00:00  https://www.maxanet.com/cgi-bin/mndetails.cgi?...  \n",
       "4 2017-02-21 10:00:00  https://www.maxanet.com/cgi-bin/mndetails.cgi?...  \n",
       "5 2017-02-16 10:00:00  https://www.maxanet.com/cgi-bin/mndetails.cgi?...  \n",
       "6 2017-02-14 10:00:00  https://www.maxanet.com/cgi-bin/mndetails.cgi?...  \n",
       "7 2017-02-01 10:00:00  https://www.maxanet.com/cgi-bin/mndetails.cgi?...  \n",
       "8 2017-01-26 10:00:00  https://www.maxanet.com/cgi-bin/mndetails.cgi?...  \n",
       "9 2017-01-19 10:00:00  https://www.maxanet.com/cgi-bin/mndetails.cgi?...  "
      ]
     },
     "execution_count": 8,
     "metadata": {},
     "output_type": "execute_result"
    }
   ],
   "source": [
    "from urllib.request import urlopen\n",
    "from bs4 import BeautifulSoup \n",
    "import pandas as pd\n",
    "\n",
    "html = urlopen(\"http://www.rosensys.com/previous-auctions\")\n",
    "soup = BeautifulSoup(html, \"lxml\")\n",
    "\n",
    "table = soup.table\n",
    "precords = []\n",
    "for tr in table.findAll(\"tr\"):\n",
    "    trs = tr.findAll(\"td\")\n",
    "    record = []\n",
    "    ua_link = trs[3].a[\"href\"]\n",
    "    record.append(ua_link.replace(\"https://www.maxanet.com/cgi-bin/mndetails.cgi?rosen\",\"\") )\n",
    "    record.append(trs[1].h4.text)\n",
    "    record.append(trs[2].h5.text)\n",
    "    record.append(trs[2].find(\"span\", {\"class\":\"date-display-single\"}).text)\n",
    "    precords.append(record)\n",
    "\n",
    "pdf = pd.DataFrame(data=precords)\n",
    "\n",
    "#name the columns\n",
    "pdf.columns = [\"aid\",\"ua_name\",\"ua_type\",\"ua_sdate\"]\n",
    "\n",
    "#set index\n",
    "#pdf.set_index(\"aid\",inplace=True)\n",
    "\n",
    "#remove the remaining \\n\n",
    "pdf['ua_type'] = pdf['ua_type'].str.replace('\\n',\"\")\n",
    "#format date\n",
    "pdf['ua_sdate'] = pd.to_datetime(pdf['ua_sdate'], format='%B %d, %Y - %I:%M%p')\n",
    "#construct url based on auction id\n",
    "pdf['URL'] = \"https://www.maxanet.com/cgi-bin/mndetails.cgi?rosen\" + pdf['aid']  \n",
    "\n",
    "\n",
    "pdf.to_csv('pauction.csv')\n",
    "pdf"
   ]
  },
  {
   "cell_type": "code",
   "execution_count": 27,
   "metadata": {
    "collapsed": false
   },
   "outputs": [
    {
     "data": {
      "text/plain": [
       "ua_name     March Auction eXchange\n",
       "ua_type                Online Only\n",
       "ua_sdate       2017-03-07 10:00:00\n",
       "Name: 335, dtype: object"
      ]
     },
     "execution_count": 27,
     "metadata": {},
     "output_type": "execute_result"
    }
   ],
   "source": [
    "#pdf['ua_type']\n",
    "\n",
    "pdf.iloc[1]"
   ]
  },
  {
   "cell_type": "code",
   "execution_count": 3,
   "metadata": {
    "collapsed": false
   },
   "outputs": [
    {
     "data": {
      "text/plain": [
       "0     20\n",
       "1    335\n",
       "2    329\n",
       "3    334\n",
       "4    333\n",
       "5    332\n",
       "6    330\n",
       "7     25\n",
       "8    328\n",
       "9    331\n",
       "Name: aid, dtype: object"
      ]
     },
     "execution_count": 3,
     "metadata": {},
     "output_type": "execute_result"
    }
   ],
   "source": [
    "pdf['aid']"
   ]
  },
  {
   "cell_type": "code",
   "execution_count": 9,
   "metadata": {
    "collapsed": false
   },
   "outputs": [
    {
     "data": {
      "text/plain": [
       "aid                                                        20\n",
       "ua_name     Quick Sale - FBC Enterprises, LLC. dba Custom ...\n",
       "ua_type                                           Online Only\n",
       "ua_sdate                                  2017-03-10 10:00:00\n",
       "URL         https://www.maxanet.com/cgi-bin/mndetails.cgi?...\n",
       "Name: 0, dtype: object"
      ]
     },
     "execution_count": 9,
     "metadata": {},
     "output_type": "execute_result"
    }
   ],
   "source": [
    "pdf.iloc[0]"
   ]
  },
  {
   "cell_type": "code",
   "execution_count": 44,
   "metadata": {
    "collapsed": false
   },
   "outputs": [
    {
     "data": {
      "text/plain": [
       "aid                 object\n",
       "ua_name             object\n",
       "ua_type             object\n",
       "ua_sdate    datetime64[ns]\n",
       "dtype: object"
      ]
     },
     "execution_count": 44,
     "metadata": {},
     "output_type": "execute_result"
    }
   ],
   "source": [
    "pdf.dtypes"
   ]
  },
  {
   "cell_type": "code",
   "execution_count": 11,
   "metadata": {
    "collapsed": false
   },
   "outputs": [
    {
     "name": "stdout",
     "output_type": "stream",
     "text": [
      "0    https://www.maxanet.com/cgi-bin/mndetails.cgi?...\n",
      "1    https://www.maxanet.com/cgi-bin/mndetails.cgi?...\n",
      "2    https://www.maxanet.com/cgi-bin/mndetails.cgi?...\n",
      "3    https://www.maxanet.com/cgi-bin/mndetails.cgi?...\n",
      "4    https://www.maxanet.com/cgi-bin/mndetails.cgi?...\n",
      "5    https://www.maxanet.com/cgi-bin/mndetails.cgi?...\n",
      "6    https://www.maxanet.com/cgi-bin/mndetails.cgi?...\n",
      "7    https://www.maxanet.com/cgi-bin/mndetails.cgi?...\n",
      "8    https://www.maxanet.com/cgi-bin/mndetails.cgi?...\n",
      "9    https://www.maxanet.com/cgi-bin/mndetails.cgi?...\n",
      "Name: URL, dtype: object\n"
     ]
    }
   ],
   "source": [
    "url = pdf['URL']\n",
    "\n",
    "print(url)"
   ]
  },
  {
   "cell_type": "code",
   "execution_count": null,
   "metadata": {
    "collapsed": true
   },
   "outputs": [],
   "source": [
    "#get initial auction details - auction id, number of items\n",
    "\n",
    "\n",
    "url = pdf['URL']  \n",
    "\n",
    "#get categories from web page \n",
    "category = soup('table')[0].findAll('tr')[4].findAll('td')[1].text\n",
    "\n",
    "#formatting - replace left paren with colon\n",
    "new_cat = category.replace(\" (\" ,\":\")\n",
    "#replace right paren with blank\n",
    "new1_cat = new_cat.replace(\")\",\"\")\n",
    "#split on dashes\n",
    "category_list = new1_cat.split(\" - \")\n",
    "#remove \"catalog from the list\n",
    "category_list.remove('Catalog')\n",
    "#print the list to see if it is good\n",
    "#for item in category_list:\n",
    "    #print(item)\n",
    "\n",
    "#set up file name and dictionary\n",
    "\n",
    "category = {}\n",
    "\n",
    "#put formatted items in a dictionary\n",
    "for line in category_list:\n",
    "    x = line.split(\":\")\n",
    "    a=x[0]\n",
    "    b=x[1]\n",
    "    category[a]=b\n",
    "\n",
    "#remove instructions    \n",
    "#del(category[\"1 INSTRUCTIONS\"])\n",
    "category.update({'AID':aid})\n",
    "\n",
    "#write category list to file\n",
    "with open(aid +'_category.csv', 'w') as file:\n",
    "    [file.write('{0},{1}\\n'.format(key, value)) for key, value in category.items()]  \n",
    "\n",
    "item_count = category['ALL ITEMS']\n",
    "aid = category['AID']\n",
    "\n",
    "df = pd.DataFrame({\"AID\":aid,\"item_count\":item_count}, index=[\"AID\"])\n",
    "\n",
    "df"
   ]
  },
  {
   "cell_type": "code",
   "execution_count": null,
   "metadata": {
    "collapsed": true
   },
   "outputs": [],
   "source": [
    "#get initial auction details - auction id, number of items\n",
    "\n",
    "from urllib.request import urlopen\n",
    "from bs4 import BeautifulSoup \n",
    "import re\n",
    "import csv\n",
    "import pandas as pd\n",
    "\n",
    "url = \"https://www.maxanet.com/cgi-bin/mndetails.cgi?rosen337\"    \n",
    "html = urlopen(url)\n",
    "soup = BeautifulSoup(html, \"lxml\")\n",
    "\n",
    "aID = re.compile(\"https:\\\\/\\\\/www\\\\.maxanet\\\\.com\\\\/cgi-bin\\\\/mndetails\\\\.cgi\\\\?rosen(.*)\").match(url).groups()\n",
    "\n",
    "aID = str(aID)\n",
    "aID1 = aID.replace(\",\",\"\")\n",
    "aid1 = aID1.replace(\"\\'\",\"\")\n",
    "aid2 = aid1.replace(\"(\",\"\")\n",
    "aid = aid2.replace(\")\",\"\")\n",
    "\n",
    "#get categories from web page \n",
    "category = soup('table')[0].findAll('tr')[4].findAll('td')[1].text\n",
    "\n",
    "#formatting - replace left paren with colon\n",
    "new_cat = category.replace(\" (\" ,\":\")\n",
    "#replace right paren with blank\n",
    "new1_cat = new_cat.replace(\")\",\"\")\n",
    "#split on dashes\n",
    "category_list = new1_cat.split(\" - \")\n",
    "#remove \"catalog from the list\n",
    "category_list.remove('Catalog')\n",
    "#print the list to see if it is good\n",
    "#for item in category_list:\n",
    "    #print(item)\n",
    "\n",
    "#set up file name and dictionary\n",
    "\n",
    "category = {}\n",
    "\n",
    "#put formatted items in a dictionary\n",
    "for line in category_list:\n",
    "    x = line.split(\":\")\n",
    "    a=x[0]\n",
    "    b=x[1]\n",
    "    category[a]=b\n",
    "\n",
    "#remove instructions    \n",
    "#del(category[\"1 INSTRUCTIONS\"])\n",
    "category.update({'AID':aid})\n",
    "\n",
    "#write category list to file\n",
    "with open(aid +'_category.csv', 'w') as file:\n",
    "    [file.write('{0},{1}\\n'.format(key, value)) for key, value in category.items()]  \n",
    "\n",
    "item_count = category['ALL ITEMS']\n",
    "aid = category['AID']\n",
    "\n",
    "df = pd.DataFrame({\"AID\":aid,\"item_count\":item_count}, index=[\"AID\"])\n",
    "\n",
    "df"
   ]
  }
 ],
 "metadata": {
  "anaconda-cloud": {},
  "kernelspec": {
   "display_name": "Python [Root]",
   "language": "python",
   "name": "Python [Root]"
  },
  "language_info": {
   "codemirror_mode": {
    "name": "ipython",
    "version": 3
   },
   "file_extension": ".py",
   "mimetype": "text/x-python",
   "name": "python",
   "nbconvert_exporter": "python",
   "pygments_lexer": "ipython3",
   "version": "3.5.2"
  }
 },
 "nbformat": 4,
 "nbformat_minor": 0
}
